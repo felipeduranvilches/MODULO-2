{
  "cells": [
    {
      "cell_type": "markdown",
      "metadata": {
        "id": "view-in-github",
        "colab_type": "text"
      },
      "source": [
        "<a href=\"https://colab.research.google.com/github/felipeduranvilches/MODULO-2/blob/main/DataScienceEcosystemFMDV.ipynb\" target=\"_parent\"><img src=\"https://colab.research.google.com/assets/colab-badge.svg\" alt=\"Open In Colab\"/></a>"
      ]
    },
    {
      "cell_type": "markdown",
      "source": [
        "## Exercise 2 - Create a markdown cell with the notebook title\n",
        "Data Science Tools and Ecosystem"
      ],
      "metadata": {
        "id": "UZVjcsE9IrIT"
      },
      "id": "UZVjcsE9IrIT"
    },
    {
      "cell_type": "markdown",
      "id": "c0a409f2",
      "metadata": {
        "id": "c0a409f2"
      },
      "source": [
        "# Exercise 3 Markdown cell for an introduction.\n",
        "In this notebook, we provide an overview of the tools and ecosystem of Data Science. Throughout various exercises, we will learn about the most widely used programming languages, key data analysis libraries, and essential tools that support data science workflows. Additionally, we will practice basic operations with Python to reinforce the concepts covered."
      ]
    },
    {
      "cell_type": "markdown",
      "id": "8f3ab2e0",
      "metadata": {
        "id": "8f3ab2e0"
      },
      "source": [
        "## Exercise 4 - Create a markdown cell to list data science languages\n",
        "\n",
        "\n",
        "Some of the popular languages that Data Scientists use are:\n",
        "\n",
        "1. MATLAB\n",
        "2. JavaScript\n",
        "3. SQL\n",
        "4. C++\n",
        "5. R\n",
        "\n"
      ]
    },
    {
      "cell_type": "markdown",
      "id": "55d2d363",
      "metadata": {
        "id": "55d2d363"
      },
      "source": [
        "## Exercise 5 - Create a markdown cell to list data science libraries\n",
        "Some of the commonly used libraries used by Data Scientists include:\n",
        "\n",
        "1. Matplotlib\n",
        "2. Plotly\n",
        "3. PyTorch\n",
        "4. Pandas\n",
        "5. NumPy\n"
      ]
    },
    {
      "cell_type": "markdown",
      "id": "199f23a8",
      "metadata": {
        "id": "199f23a8"
      },
      "source": [
        "## Exercise 6 - Create a markdown cell with a table of Data Science tools\n",
        "\n",
        "| **Data Science Tools**     |\n",
        "|----------------------------|\n",
        "| Google Colab          |\n",
        "| Spyder                     |\n",
        "| RapidMiner             |\n",
        "| IBM Watson Studio             |"
      ]
    },
    {
      "cell_type": "markdown",
      "id": "aa5669af",
      "metadata": {
        "id": "aa5669af"
      },
      "source": [
        "## Exercise 7 - Create a markdown cell introducing arithmetic expression examples\n",
        "\n",
        "Below are a few examples of evaluating arithmetic expressions in Python.\n",
        "\n",
        "1. **Addition:** `8 + 5 = 13`\n",
        "   \n",
        "2. **Subtraction:** `15 - 5 = 10`\n",
        "   \n",
        "3. **Multiplication:** `4 * 4 = 16`\n",
        "   \n",
        "4. **Division:** `30 / 3 = 10`\n",
        "   \n",
        "5. **Exponentiation:** `3 ** 3 = 27`\n",
        "\n",
        "6. **Parentheses and mixed operations:** `(8 * 1) + 10 = 18`\n",
        "\n",
        "7. **Mixed operations with exponents and division:**  \n",
        "   `4 ** 2 / 2 + 3 = 5.0`\n",
        "\n",
        "8. **Parentheses with nested operations:**  \n",
        "   `(10 + (2 * 3)) - 7 = 11`\n",
        "\n",
        "9. **Exponentiation and square roots:**  \n",
        "   `25 ** (1/2) = 5.0` (Square root of 25)\n",
        "\n",
        "10. **Compound expression with multiple operations:**  \n",
        "   `(6 * 2) + (4 ** 2) - (3 / 3) = 10.0`"
      ]
    },
    {
      "cell_type": "markdown",
      "id": "8321bd7a",
      "metadata": {
        "id": "8321bd7a"
      },
      "source": [
        "## Exercise 8 - Create a code cell to multiply and add numbers"
      ]
    },
    {
      "cell_type": "code",
      "execution_count": null,
      "id": "07df80f5",
      "metadata": {
        "colab": {
          "base_uri": "https://localhost:8080/"
        },
        "id": "07df80f5",
        "outputId": "f90c2fe8-9477-42c9-93e6-6f76a4733011"
      },
      "outputs": [
        {
          "output_type": "execute_result",
          "data": {
            "text/plain": [
              "58"
            ]
          },
          "metadata": {},
          "execution_count": 1
        }
      ],
      "source": [
        "# This is a simple arithmetic expression to multiply then add integers\n",
        "(10 * 5) + 8"
      ]
    },
    {
      "cell_type": "markdown",
      "id": "ce63ff36",
      "metadata": {
        "id": "ce63ff36"
      },
      "source": [
        "## Exercise 9 - Create a code cell to convert minutes to hours\n"
      ]
    },
    {
      "cell_type": "code",
      "execution_count": null,
      "id": "a8d8c04d",
      "metadata": {
        "colab": {
          "base_uri": "https://localhost:8080/"
        },
        "id": "a8d8c04d",
        "outputId": "9890141f-d571-4360-b838-729a736b84f4"
      },
      "outputs": [
        {
          "output_type": "execute_result",
          "data": {
            "text/plain": [
              "50.0"
            ]
          },
          "metadata": {},
          "execution_count": 2
        }
      ],
      "source": [
        "# This will convert 200 minutes to hours by dividing by 60\n",
        "3000 / 60"
      ]
    },
    {
      "cell_type": "markdown",
      "id": "5eae6bfe",
      "metadata": {
        "id": "5eae6bfe"
      },
      "source": [
        "## Exercise 10 - Insert a markdown cell to list Objectives"
      ]
    },
    {
      "cell_type": "markdown",
      "id": "3b0d8dfc",
      "metadata": {
        "id": "3b0d8dfc"
      },
      "source": [
        "**Objectives:**\n",
        "\n",
        "- Understand the fundamentals of data analysis in Python\n",
        "- Learn how to clean and prepare data for analysis\n",
        "- Develop skills to effectively visualize data\n",
        "- Implement basic machine learning models\n",
        "- Learn to use Jupyter Notebooks to document and present analysis\n"
      ]
    },
    {
      "cell_type": "markdown",
      "id": "4d0a23c2",
      "metadata": {
        "id": "4d0a23c2"
      },
      "source": [
        "## Exercise 11 - Create a markdown cell to indicate the Author's name"
      ]
    },
    {
      "cell_type": "markdown",
      "id": "f8f15536",
      "metadata": {
        "id": "f8f15536"
      },
      "source": [
        "## Author\n",
        "\n",
        "Felipe Mauricio Durán Vilches\n"
      ]
    }
  ],
  "metadata": {
    "kernelspec": {
      "display_name": "Python 3 (ipykernel)",
      "language": "python",
      "name": "python3"
    },
    "language_info": {
      "codemirror_mode": {
        "name": "ipython",
        "version": 3
      },
      "file_extension": ".py",
      "mimetype": "text/x-python",
      "name": "python",
      "nbconvert_exporter": "python",
      "pygments_lexer": "ipython3",
      "version": "3.11.5"
    },
    "colab": {
      "provenance": [],
      "include_colab_link": true
    }
  },
  "nbformat": 4,
  "nbformat_minor": 5
}